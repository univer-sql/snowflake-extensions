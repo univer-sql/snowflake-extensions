{
 "metadata": {
  "kernelspec": {
   "display_name": "Streamlit Notebook",
   "name": "streamlit"
  }
 },
 "nbformat_minor": 5,
 "nbformat": 4,
 "cells": [
  {
   "cell_type": "markdown",
   "id": "2c652f99-3812-460b-a256-7d4f032085b6",
   "metadata": {
    "name": "cell5",
    "collapsed": false
   },
   "source": "## test\nnaber"
  },
  {
   "cell_type": "code",
   "id": "668ec4b5-4ba2-4900-a396-4318cf67f5a2",
   "metadata": {
    "language": "python",
    "name": "cell6",
    "collapsed": false,
    "codeCollapsed": false
   },
   "outputs": [],
   "source": "import streamlit as st\nimport pandas as pd\nimport streamlit.components.v1 as components\n\nsession.add_packages(\"universql\")\nsession.add_packages(\"snowflake-snowpark-python[modin]\")\n\nfrom snowflake.snowpark.context import get_active_session\nsession = get_active_session()\ncur = session.connection.cursor()\ncur.execute(\"select 1\")\ncur.fetch_pandas_all()\n\n\n# st.markdown(\"\"\"# Interactive Filtering with Streamlit! :balloon:\n#             Values will automatically cascade down the notebook cells\"\"\")\n\n# df = pd.DataFrame([[1, 'Big Bear', 8],[2, 'Big Bear', 10],[3, 'Big Bear', None],\n#                     [1, 'Tahoe', 3],[2, 'Tahoe', None],[3, 'Tahoe', 13],\n#                     [1, 'Whistler', None],['Friday', 'Whistler', 40],[3, 'Whistler', 25]],\n#                     columns=[\"DAY\", \"LOCATION\", \"SNOWFALL\"])\n\n# pd.DataFrame([(1, 2, 3, 4)], columns=[\"a\", \"b\", \"c\", \"d\"])",
   "execution_count": null
  },
  {
   "cell_type": "code",
   "id": "8351fbed-4d9e-4dca-bff6-aefe0b5bc5c3",
   "metadata": {
    "language": "sql",
    "name": "cell7",
    "collapsed": false
   },
   "outputs": [],
   "source": "create table test as select 1 as test",
   "execution_count": null
  },
  {
   "cell_type": "code",
   "id": "52ed961b-7667-41d5-a8c8-b56752fcacfe",
   "metadata": {
    "language": "python",
    "name": "cell4",
    "collapsed": false
   },
   "outputs": [],
   "source": "from snowflake.snowpark.context import get_active_session\nsession = get_active_session()\nsession.custom_package_usage_config['enabled'] = True\nsession.add_packages(\"universql==0.1.1.dev1728153428\")",
   "execution_count": null
  },
  {
   "cell_type": "code",
   "id": "3775908f-ca36-4846-8f38-5adca39217f2",
   "metadata": {
    "language": "python",
    "name": "cell1"
   },
   "source": "# Import python packages\nimport streamlit as st\nimport pandas as pd\n\n# We can also use Snowpark for our analyses!\nfrom snowflake.snowpark.context import get_active_session\nsession = get_active_session()\n",
   "execution_count": null,
   "outputs": []
  },
  {
   "cell_type": "code",
   "id": "8d50cbf4-0c8d-4950-86cb-114990437ac9",
   "metadata": {
    "language": "sql",
    "name": "cell2"
   },
   "source": "-- Welcome to Snowflake Notebooks!\n-- Try out a SQL cell to generate some data.\nSELECT 'FRIDAY' as SNOWDAY, 0.2 as CHANCE_OF_SNOW\nUNION ALL\nSELECT 'SATURDAY',0.5\nUNION ALL \nSELECT 'SUNDAY', 0.9;",
   "execution_count": null,
   "outputs": []
  },
  {
   "cell_type": "code",
   "id": "c695373e-ac74-4b62-a1f1-08206cbd5c81",
   "metadata": {
    "language": "python",
    "name": "cell3"
   },
   "source": "# Then, we can use the python name to turn cell2 into a Pandas dataframe\nmy_df = cell2.to_pandas()\n\n# Chart the data\nst.subheader(\"Chance of SNOW ❄️\")\nst.line_chart(my_df, x='SNOWDAY', y='CHANCE_OF_SNOW')\n\n# Give it a go!\nst.subheader(\"Try it out yourself and show off your skills 🥇\")",
   "execution_count": null,
   "outputs": []
  }
 ]
}